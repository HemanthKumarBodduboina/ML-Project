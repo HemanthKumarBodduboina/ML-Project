{
  "nbformat": 4,
  "nbformat_minor": 0,
  "metadata": {
    "colab": {
      "provenance": [],
      "authorship_tag": "ABX9TyNnbF1gsCQ6btrJcW97T3Qo",
      "include_colab_link": true
    },
    "kernelspec": {
      "name": "python3",
      "display_name": "Python 3"
    },
    "language_info": {
      "name": "python"
    }
  },
  "cells": [
    {
      "cell_type": "markdown",
      "metadata": {
        "id": "view-in-github",
        "colab_type": "text"
      },
      "source": [
        "<a href=\"https://colab.research.google.com/github/HemanthKumarBodduboina/ML-Project/blob/main/Custom_Exception_Handling.ipynb\" target=\"_parent\"><img src=\"https://colab.research.google.com/assets/colab-badge.svg\" alt=\"Open In Colab\"/></a>"
      ]
    },
    {
      "cell_type": "code",
      "execution_count": 1,
      "metadata": {
        "id": "EQO41_j5pVxX"
      },
      "outputs": [],
      "source": [
        "# In python we can create custom exceptions by defining new class that inherits from the base class exception.\n",
        "# This allows us to create meaningful exception classes specific to our application's contexts.\n",
        "# Custom exception are useful for handling specific error cases more explicitly, improving the readability and mantainability of our code"
      ]
    },
    {
      "cell_type": "markdown",
      "source": [
        "Steps to create custom exception"
      ],
      "metadata": {
        "id": "Aonx7f6ysCTe"
      }
    },
    {
      "cell_type": "code",
      "source": [
        "# Step 1 : Define a new class that inherits from Exception\n",
        "# Step :2  Optionally, override the __init__ and __str__ methods to customize the exception message"
      ],
      "metadata": {
        "id": "fYkOLQM8sJCB"
      },
      "execution_count": 2,
      "outputs": []
    },
    {
      "cell_type": "code",
      "source": [
        "# Defining custom exception class\n",
        "class InvalidAgeError(Exception):\n",
        "    def __init__(self, age, message=\"Age must between 18 and 60\"):\n",
        "        self.age = age\n",
        "        self.message = message\n",
        "        super().__init__(self.message)\n",
        "\n",
        "    def __str__(self):\n",
        "        return f\"{self.age}-> {self.message}\"\n",
        "\n",
        "\n",
        "# Step 2: Use the custom exception in code\n",
        "def check_age(age):\n",
        "    if age < 18 or age > 60:\n",
        "        raise InvalidAgeError(age)\n",
        "    else:\n",
        "      print(f\"Age : {age}\")\n",
        "\n",
        "\n",
        "# Testing Custom Exception\n",
        "try:\n",
        "    user_age = int(input(\"Enter your age:\"))\n",
        "    check_age(user_age)\n",
        "except InvalidAgeError as e:\n",
        "    print(f\"Error : {e}\")"
      ],
      "metadata": {
        "colab": {
          "base_uri": "https://localhost:8080/"
        },
        "id": "MaScTXyltfNW",
        "outputId": "b068def5-795c-48b4-cc50-1a867bb05999"
      },
      "execution_count": 7,
      "outputs": [
        {
          "output_type": "stream",
          "name": "stdout",
          "text": [
            "Enter your age:22\n",
            "Age : 22\n"
          ]
        }
      ]
    },
    {
      "cell_type": "code",
      "source": [],
      "metadata": {
        "id": "d-I4q4JPxP0B"
      },
      "execution_count": null,
      "outputs": []
    }
  ]
}